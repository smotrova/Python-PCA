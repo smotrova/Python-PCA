{
 "cells": [
  {
   "cell_type": "markdown",
   "metadata": {},
   "source": [
    "# Principal components regression"
   ]
  },
  {
   "cell_type": "markdown",
   "metadata": {},
   "source": [
    "### PCR: details"
   ]
  },
  {
   "cell_type": "markdown",
   "metadata": {},
   "source": [
    "The idea is that often a small number of principal components is sufficient to explain most of the variability in the data, as well as the relationship with the data response. However, the PCA approach is unsupervised, so the response Y is not used. There is no guarantee that the directions that best explain the predictors will also be the best directions to use for predicting response. It is not a future selection method because each of the _M_ principal components used in the regression is a linear combinations of all _p_ of the original features.\n",
    "\n",
    "Steps:\n",
    "\n",
    "* find principal components (PCs)\n",
    "* use k-fold cross-validation to choose a number of the PCs _M_ for a linear regression model\n",
    "* evaluate the model performance on the test data\n"
   ]
  },
  {
   "cell_type": "markdown",
   "metadata": {},
   "source": [
    "###  PCR: example"
   ]
  },
  {
   "cell_type": "code",
   "execution_count": 1,
   "metadata": {},
   "outputs": [],
   "source": [
    "import pandas as pd\n",
    "import numpy as np\n",
    "import matplotlib.pyplot as plt\n",
    "import seaborn as sns\n",
    "\n",
    "from sklearn.decomposition import PCA\n",
    "from sklearn.preprocessing import StandardScaler\n",
    "from sklearn.linear_model import LinearRegression\n",
    "\n",
    "from sklearn.model_selection import train_test_split, KFold, cross_val_score\n",
    "from sklearn.metrics import mean_squared_error, explained_variance_score\n"
   ]
  },
  {
   "cell_type": "markdown",
   "metadata": {},
   "source": [
    "Data `yarn` is a part of [`pls`]( https://CRAN.R-project.org/package=pls) R package."
   ]
  },
  {
   "cell_type": "markdown",
   "metadata": {},
   "source": [
    "__NIR spectra and density measurements of PET yarns__\n",
    "\n",
    "A training set consisting of 28 near-infrared (NIR) spectra of PET yarns, measured at 268 wavelengths, and 28 corresponding densities.\n",
    "\n",
    "|Variable|Description|\n",
    "|--|--|\n",
    "|X1...X268| NIR measurements|\n",
    "|density| Numeric vector of densities|"
   ]
  },
  {
   "cell_type": "code",
   "execution_count": 2,
   "metadata": {},
   "outputs": [],
   "source": [
    "yarn = pd.read_csv('../data/yarn.csv')"
   ]
  },
  {
   "cell_type": "code",
   "execution_count": 3,
   "metadata": {},
   "outputs": [],
   "source": [
    "yarn.rename(columns={'yarn.density':'density'}, inplace=True)"
   ]
  },
  {
   "cell_type": "code",
   "execution_count": 4,
   "metadata": {},
   "outputs": [
    {
     "data": {
      "text/plain": [
       "(28, 269)"
      ]
     },
     "execution_count": 4,
     "metadata": {},
     "output_type": "execute_result"
    }
   ],
   "source": [
    "# data contains 28 observations and 269 variables\n",
    "# the PCA used to reduce a number of variables \n",
    "yarn.shape"
   ]
  },
  {
   "cell_type": "code",
   "execution_count": 5,
   "metadata": {},
   "outputs": [
    {
     "data": {
      "text/plain": [
       "Index(['X1', 'X2', 'X3', 'X4', 'X5', 'X6', 'X7', 'X8', 'X9', 'X10',\n",
       "       ...\n",
       "       'X260', 'X261', 'X262', 'X263', 'X264', 'X265', 'X266', 'X267', 'X268',\n",
       "       'density'],\n",
       "      dtype='object', length=269)"
      ]
     },
     "execution_count": 5,
     "metadata": {},
     "output_type": "execute_result"
    }
   ],
   "source": [
    "yarn.columns"
   ]
  },
  {
   "cell_type": "code",
   "execution_count": 6,
   "metadata": {},
   "outputs": [],
   "source": [
    "NIR=yarn[[x for x in yarn.columns[:-1] ]]"
   ]
  },
  {
   "cell_type": "code",
   "execution_count": 7,
   "metadata": {},
   "outputs": [],
   "source": [
    "# split into train and test data set\n",
    "X_train, X_test, y_train, y_test = train_test_split(\n",
    "                                    NIR, yarn.density, test_size=0.25, random_state=1)"
   ]
  },
  {
   "cell_type": "code",
   "execution_count": 8,
   "metadata": {},
   "outputs": [],
   "source": [
    "# Step1. Standartize the data\n",
    "\n",
    "# fit scaler on the train data, preprocess the test data\n",
    "scaler = StandardScaler()\n",
    "X_train = scaler.fit_transform(X_train)\n",
    "X_test = scaler.transform(X_test)"
   ]
  },
  {
   "cell_type": "code",
   "execution_count": 9,
   "metadata": {},
   "outputs": [],
   "source": [
    "# find principal components\n",
    "pca = PCA()\n",
    "\n",
    "pcs_train = pca.fit_transform(X_train)\n",
    "pcs_test = pca.transform(X_test)"
   ]
  },
  {
   "cell_type": "code",
   "execution_count": 10,
   "metadata": {},
   "outputs": [
    {
     "data": {
      "text/html": [
       "<div>\n",
       "<style scoped>\n",
       "    .dataframe tbody tr th:only-of-type {\n",
       "        vertical-align: middle;\n",
       "    }\n",
       "\n",
       "    .dataframe tbody tr th {\n",
       "        vertical-align: top;\n",
       "    }\n",
       "\n",
       "    .dataframe thead th {\n",
       "        text-align: right;\n",
       "    }\n",
       "</style>\n",
       "<table border=\"1\" class=\"dataframe\">\n",
       "  <thead>\n",
       "    <tr style=\"text-align: right;\">\n",
       "      <th></th>\n",
       "      <th>Proportion of variance</th>\n",
       "      <th>Cumulative proportion</th>\n",
       "    </tr>\n",
       "  </thead>\n",
       "  <tbody>\n",
       "    <tr>\n",
       "      <th>PC1</th>\n",
       "      <td>5.003432e-01</td>\n",
       "      <td>0.500343</td>\n",
       "    </tr>\n",
       "    <tr>\n",
       "      <th>PC2</th>\n",
       "      <td>3.150696e-01</td>\n",
       "      <td>0.815413</td>\n",
       "    </tr>\n",
       "    <tr>\n",
       "      <th>PC3</th>\n",
       "      <td>1.694492e-01</td>\n",
       "      <td>0.984862</td>\n",
       "    </tr>\n",
       "    <tr>\n",
       "      <th>PC4</th>\n",
       "      <td>8.729621e-03</td>\n",
       "      <td>0.993592</td>\n",
       "    </tr>\n",
       "    <tr>\n",
       "      <th>PC5</th>\n",
       "      <td>2.975617e-03</td>\n",
       "      <td>0.996567</td>\n",
       "    </tr>\n",
       "    <tr>\n",
       "      <th>PC6</th>\n",
       "      <td>1.200898e-03</td>\n",
       "      <td>0.997768</td>\n",
       "    </tr>\n",
       "    <tr>\n",
       "      <th>PC7</th>\n",
       "      <td>1.046394e-03</td>\n",
       "      <td>0.998815</td>\n",
       "    </tr>\n",
       "    <tr>\n",
       "      <th>PC8</th>\n",
       "      <td>3.788105e-04</td>\n",
       "      <td>0.999193</td>\n",
       "    </tr>\n",
       "    <tr>\n",
       "      <th>PC9</th>\n",
       "      <td>2.925822e-04</td>\n",
       "      <td>0.999486</td>\n",
       "    </tr>\n",
       "    <tr>\n",
       "      <th>PC10</th>\n",
       "      <td>1.468995e-04</td>\n",
       "      <td>0.999633</td>\n",
       "    </tr>\n",
       "    <tr>\n",
       "      <th>PC11</th>\n",
       "      <td>1.317720e-04</td>\n",
       "      <td>0.999765</td>\n",
       "    </tr>\n",
       "    <tr>\n",
       "      <th>PC12</th>\n",
       "      <td>7.725055e-05</td>\n",
       "      <td>0.999842</td>\n",
       "    </tr>\n",
       "    <tr>\n",
       "      <th>PC13</th>\n",
       "      <td>4.765870e-05</td>\n",
       "      <td>0.999890</td>\n",
       "    </tr>\n",
       "    <tr>\n",
       "      <th>PC14</th>\n",
       "      <td>3.242095e-05</td>\n",
       "      <td>0.999922</td>\n",
       "    </tr>\n",
       "    <tr>\n",
       "      <th>PC15</th>\n",
       "      <td>2.806068e-05</td>\n",
       "      <td>0.999950</td>\n",
       "    </tr>\n",
       "    <tr>\n",
       "      <th>PC16</th>\n",
       "      <td>1.960525e-05</td>\n",
       "      <td>0.999970</td>\n",
       "    </tr>\n",
       "    <tr>\n",
       "      <th>PC17</th>\n",
       "      <td>1.155216e-05</td>\n",
       "      <td>0.999981</td>\n",
       "    </tr>\n",
       "    <tr>\n",
       "      <th>PC18</th>\n",
       "      <td>7.171110e-06</td>\n",
       "      <td>0.999988</td>\n",
       "    </tr>\n",
       "    <tr>\n",
       "      <th>PC19</th>\n",
       "      <td>6.168202e-06</td>\n",
       "      <td>0.999994</td>\n",
       "    </tr>\n",
       "    <tr>\n",
       "      <th>PC20</th>\n",
       "      <td>5.511270e-06</td>\n",
       "      <td>1.000000</td>\n",
       "    </tr>\n",
       "    <tr>\n",
       "      <th>PC21</th>\n",
       "      <td>1.567631e-33</td>\n",
       "      <td>1.000000</td>\n",
       "    </tr>\n",
       "  </tbody>\n",
       "</table>\n",
       "</div>"
      ],
      "text/plain": [
       "      Proportion of variance  Cumulative proportion\n",
       "PC1             5.003432e-01               0.500343\n",
       "PC2             3.150696e-01               0.815413\n",
       "PC3             1.694492e-01               0.984862\n",
       "PC4             8.729621e-03               0.993592\n",
       "PC5             2.975617e-03               0.996567\n",
       "PC6             1.200898e-03               0.997768\n",
       "PC7             1.046394e-03               0.998815\n",
       "PC8             3.788105e-04               0.999193\n",
       "PC9             2.925822e-04               0.999486\n",
       "PC10            1.468995e-04               0.999633\n",
       "PC11            1.317720e-04               0.999765\n",
       "PC12            7.725055e-05               0.999842\n",
       "PC13            4.765870e-05               0.999890\n",
       "PC14            3.242095e-05               0.999922\n",
       "PC15            2.806068e-05               0.999950\n",
       "PC16            1.960525e-05               0.999970\n",
       "PC17            1.155216e-05               0.999981\n",
       "PC18            7.171110e-06               0.999988\n",
       "PC19            6.168202e-06               0.999994\n",
       "PC20            5.511270e-06               1.000000\n",
       "PC21            1.567631e-33               1.000000"
      ]
     },
     "execution_count": 10,
     "metadata": {},
     "output_type": "execute_result"
    }
   ],
   "source": [
    "pd.DataFrame({'Proportion of variance': pca.explained_variance_ratio_,\n",
    "              'Cumulative proportion': np.cumsum(pca.explained_variance_ratio_)},\n",
    "              index=[ 'PC'+str(x+1) for x in range(pca.n_components_)])"
   ]
  },
  {
   "cell_type": "markdown",
   "metadata": {},
   "source": [
    "> The first 4 PSc explain 99% of variance in the data."
   ]
  },
  {
   "cell_type": "code",
   "execution_count": 11,
   "metadata": {},
   "outputs": [],
   "source": [
    "# 5-fold cross-validation with shuffle\n",
    "kf_ = KFold( n_splits=5, shuffle=True, random_state=144)"
   ]
  },
  {
   "cell_type": "code",
   "execution_count": 12,
   "metadata": {},
   "outputs": [],
   "source": [
    "# build linear regression\n",
    "lm = LinearRegression()"
   ]
  },
  {
   "cell_type": "markdown",
   "metadata": {},
   "source": [
    "Regression metrics:\n",
    "\n",
    "$$\\text{explained_variance} = 1-\\frac{Var(y-\\hat{y})}{Var(y)}$$\n",
    "\n",
    "$$\\text{MSE}(y, \\hat{y})=\\frac{1}{n}\\displaystyle\\sum_{i=1}^{n}(y-\\hat{y})^2 $$"
   ]
  },
  {
   "cell_type": "code",
   "execution_count": 13,
   "metadata": {},
   "outputs": [
    {
     "data": {
      "text/html": [
       "<div>\n",
       "<style scoped>\n",
       "    .dataframe tbody tr th:only-of-type {\n",
       "        vertical-align: middle;\n",
       "    }\n",
       "\n",
       "    .dataframe tbody tr th {\n",
       "        vertical-align: top;\n",
       "    }\n",
       "\n",
       "    .dataframe thead th {\n",
       "        text-align: right;\n",
       "    }\n",
       "</style>\n",
       "<table border=\"1\" class=\"dataframe\">\n",
       "  <thead>\n",
       "    <tr style=\"text-align: right;\">\n",
       "      <th></th>\n",
       "      <th>MSE</th>\n",
       "      <th>Explained Variance</th>\n",
       "    </tr>\n",
       "  </thead>\n",
       "  <tbody>\n",
       "    <tr>\n",
       "      <th>1 PSc in model</th>\n",
       "      <td>87.157604</td>\n",
       "      <td>0.863554</td>\n",
       "    </tr>\n",
       "    <tr>\n",
       "      <th>2 PSc in model</th>\n",
       "      <td>102.115541</td>\n",
       "      <td>0.840011</td>\n",
       "    </tr>\n",
       "    <tr>\n",
       "      <th>3 PSc in model</th>\n",
       "      <td>7.481970</td>\n",
       "      <td>0.992426</td>\n",
       "    </tr>\n",
       "    <tr>\n",
       "      <th>4 PSc in model</th>\n",
       "      <td>1.402078</td>\n",
       "      <td>0.996726</td>\n",
       "    </tr>\n",
       "    <tr>\n",
       "      <th>5 PSc in model</th>\n",
       "      <td>1.609867</td>\n",
       "      <td>0.996836</td>\n",
       "    </tr>\n",
       "  </tbody>\n",
       "</table>\n",
       "</div>"
      ],
      "text/plain": [
       "                       MSE  Explained Variance\n",
       "1 PSc in model   87.157604            0.863554\n",
       "2 PSc in model  102.115541            0.840011\n",
       "3 PSc in model    7.481970            0.992426\n",
       "4 PSc in model    1.402078            0.996726\n",
       "5 PSc in model    1.609867            0.996836"
      ]
     },
     "execution_count": 13,
     "metadata": {},
     "output_type": "execute_result"
    }
   ],
   "source": [
    "# perform cross-validation on the training data\n",
    "# we compare models based on two differenet metrics 'mse' and 'explained_variance'\n",
    "\n",
    "#(M-1) is a max number of principal components in a model\n",
    "# the number of predictors < the number of observations to fit a regression model\n",
    "\n",
    "M = 6  \n",
    "\n",
    "mse=[]\n",
    "expl_var=[]\n",
    "\n",
    "for i in range(1,M):\n",
    "    score_mse = - cross_val_score(lm, pcs_train[:, :i], y_train, \n",
    "                                  cv=kf_, scoring='neg_mean_squared_error').mean()\n",
    "    \n",
    "    score_expl_var = cross_val_score(lm, pcs_train[:, :i], y_train, \n",
    "                                     cv=kf_, scoring='explained_variance').mean()\n",
    "    mse.append(score_mse)\n",
    "    expl_var.append(score_expl_var)\n",
    "\n",
    "pd.DataFrame({'MSE':mse, 'Explained Variance':expl_var}, \n",
    "             index=[str(i)+' PSc in model' for i in range(1,M)])    "
   ]
  },
  {
   "cell_type": "code",
   "execution_count": 14,
   "metadata": {},
   "outputs": [
    {
     "data": {
      "image/png": "[encoded data removed]",
      "text/plain": [
       "<Figure size 720x360 with 1 Axes>"
      ]
     },
     "metadata": {},
     "output_type": "display_data"
    }
   ],
   "source": [
    "plt.figure(figsize=(10,5))\n",
    "plt.style.use('seaborn')\n",
    "\n",
    "plt.plot([int(i) for i in range(1,M)], mse, '-D')\n",
    "plt.xlabel('Number of principal components in regression', fontsize=18)\n",
    "plt.xticks([int(i) for i in range(1,M)],fontsize=16)\n",
    "plt.ylabel('MSE', fontsize=18)\n",
    "plt.yticks(fontsize=16)\n",
    "plt.show()\n",
    "plt.close()"
   ]
  },
  {
   "cell_type": "code",
   "execution_count": 15,
   "metadata": {},
   "outputs": [],
   "source": [
    "# fit a regression model with the 3 PCs on training data\n",
    "M = 3\n",
    "\n",
    "lm.fit(pcs_train[:, : M], y_train)\n",
    "y_pred = lm.predict(pcs_test[:, : M])"
   ]
  },
  {
   "cell_type": "code",
   "execution_count": 16,
   "metadata": {},
   "outputs": [
    {
     "data": {
      "text/plain": [
       "0.9952051321822522"
      ]
     },
     "execution_count": 16,
     "metadata": {},
     "output_type": "execute_result"
    }
   ],
   "source": [
    "# evaluate training performance\n",
    "# explained variance in the response\n",
    "\n",
    "explained_variance_score(y_train, lm.predict(pcs_train[:, : M]))"
   ]
  },
  {
   "cell_type": "code",
   "execution_count": 17,
   "metadata": {},
   "outputs": [
    {
     "data": {
      "text/plain": [
       "0.9795238096186122"
      ]
     },
     "execution_count": 17,
     "metadata": {},
     "output_type": "execute_result"
    }
   ],
   "source": [
    "# evaluate test performance\n",
    "# explained variance in the response \n",
    "explained_variance_score(y_test, y_pred)"
   ]
  },
  {
   "cell_type": "code",
   "execution_count": 18,
   "metadata": {},
   "outputs": [
    {
     "data": {
      "text/plain": [
       "3.380022283407623"
      ]
     },
     "execution_count": 18,
     "metadata": {},
     "output_type": "execute_result"
    }
   ],
   "source": [
    "# mse, traininga data\n",
    "mean_squared_error(y_train, lm.predict(pcs_train[:, : M]))"
   ]
  },
  {
   "cell_type": "code",
   "execution_count": 19,
   "metadata": {},
   "outputs": [
    {
     "data": {
      "text/plain": [
       "17.381885522928297"
      ]
     },
     "execution_count": 19,
     "metadata": {},
     "output_type": "execute_result"
    }
   ],
   "source": [
    "# mse, test data\n",
    "mean_squared_error(y_test, y_pred)"
   ]
  }
 ],
 "metadata": {
  "kernelspec": {
   "display_name": "Python 3 (Spyder)",
   "language": "python3",
   "name": "python3"
  },
  "language_info": {
   "codemirror_mode": {
    "name": "ipython",
    "version": 3
   },
   "file_extension": ".py",
   "mimetype": "text/x-python",
   "name": "python",
   "nbconvert_exporter": "python",
   "pygments_lexer": "ipython3",
   "version": "3.7.5"
  }
 },
 "nbformat": 4,
 "nbformat_minor": 4
}
