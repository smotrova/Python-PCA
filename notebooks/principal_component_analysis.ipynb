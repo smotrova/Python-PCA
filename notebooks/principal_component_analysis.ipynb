{
 "cells": [
  {
   "cell_type": "markdown",
   "metadata": {},
   "source": [
    "# Principal Components Analysis"
   ]
  },
  {
   "cell_type": "markdown",
   "metadata": {},
   "source": [
    "__Principal component analysis (PCA)__ refers to the process by which principal components are computed, and the subsequent use of these components in understanding the data. PCA is unsupervised approach. PCA finds a low-dimensional representation of the data that capture as much of the information as possible (contains as much as possible of the variation)."
   ]
  },
  {
   "cell_type": "markdown",
   "metadata": {},
   "source": [
    "### PCA: details"
   ]
  },
  {
   "cell_type": "markdown",
   "metadata": {},
   "source": [
    "Principal components are a sequence of projections of the data, mutually uncorrelated and ordered by variance."
   ]
  },
  {
   "cell_type": "markdown",
   "metadata": {},
   "source": [
    "$X_{1}, X_{2}, \\dotsc, X_{p} \\in \\mathbb{R}^{n}$, where each of yhe variable has been centered to have mean zero."
   ]
  },
  {
   "cell_type": "markdown",
   "metadata": {},
   "source": [
    "$Z_{1}, Z_{2}, \\dotsc, Z_{k} \\in \\mathbb{R}^n, k \\leq p$"
   ]
  },
  {
   "cell_type": "markdown",
   "metadata": {},
   "source": [
    "$\\phi_{1}, \\phi_{2}, \\dotsc, \\phi_{k} \\dots $ are principal component directions."
   ]
  },
  {
   "cell_type": "markdown",
   "metadata": {},
   "source": [
    "The first principal component of a set of features $X_{1}, \\dotsc, X_{p}$ is normalized linear combination of the features:\n",
    "\n",
    "$$Z_{1}=\\phi_{11}X_{1}+\\phi_{21}X_{2}+ \\dotsb +\\phi_{p1}X_{p}$$"
   ]
  },
  {
   "cell_type": "markdown",
   "metadata": {},
   "source": [
    "The first principal component directions $\\phi_{1} = (\\phi_{11},\\phi_{21},\\dotsc,\\phi_{p1})^T$"
   ]
  },
  {
   "cell_type": "markdown",
   "metadata": {},
   "source": [
    "Elements of the principal component $Z_{1}$:\n",
    "$$z_{11}=(\\phi_{1} \\cdot X_{1})=\\phi_{1}^{T}X_{1}=\\displaystyle\\sum_{j=1}^{p} \\phi_{j1}x_{1j}$$\n",
    "$$ \\dotsb $$\n",
    "    $$z_{i1}=(\\phi_{1} \\cdot X_{i})=\\phi_{1}^{T}X_{i}=\\displaystyle\\sum_{j=1}^{p} \\phi_{j1}x_{ij}, \\; i=1,...,n$$"
   ]
  },
  {
   "cell_type": "markdown",
   "metadata": {},
   "source": [
    "Vectors $\\phi_{1}, \\phi_{2}, \\dotsc, \\phi_{k} \\dots $ are orthonormal $\\iff$\n",
    "\n",
    "$$\\| \\phi_{i}\\|^2=\\displaystyle\\sum_{j=1}^{p} \\phi_{ji}^2=1, i=1,...,k$$\n",
    "\n",
    "$$ (\\phi_{i} \\cdot \\phi_{j})=0, \\text{when } i \\neq j$$"
   ]
  },
  {
   "cell_type": "markdown",
   "metadata": {},
   "source": [
    "The k-th principal component of a set of features $X_{1}, \\dotsc, X_{p}$ is normalized linear combination of the features:\n",
    "\n",
    "$$Z_{k}=\\phi_{1k}X_{1}+\\phi_{2k}X_{2}+ \\dotsb +\\phi_{pk}X_{p}, \\; k=1,2,...,p$$"
   ]
  },
  {
   "cell_type": "markdown",
   "metadata": {},
   "source": [
    "Elements of the principal component $Z_{k}$:\n",
    "$$z_{ik}=(\\phi_{k} \\cdot X_{i})=\\phi_{k}^{T}X_{i}=\\displaystyle\\sum_{j=1}^{p} \\phi_{jk}x_{ij}, \\; i=1,...,n$$"
   ]
  },
  {
   "cell_type": "markdown",
   "metadata": {},
   "source": [
    "On a technical note, the principal component directions $\\phi_{1}, \\phi_{2}, \\dotsc, \\phi_{k} \\dots $ are the _ordered sequence of eigenvectors_ of the matrix $\\mathbf{X^{T}X}$, and _the variance of the components are eigenvalues_. $\\mathbf{X}=(X_{1}, ..., X_{p})$  is  $n \\times p$ data set."
   ]
  },
  {
   "cell_type": "markdown",
   "metadata": {},
   "source": [
    "> * PCs are weighted linear combunations of the orginal variables.\n",
    "> * Original variables should be scaled (mean $\\mu=0$, standart deviation $\\sigma^2 = 1$).\n",
    "> * PCs are uncorrelated.\n",
    "> * PCA is intended to use with numerical variables.\n",
    "> * Not robust to outliers.\n",
    "> * Nonlinear information might be lost because PCA produces linear transformations and captures linear relationships."
   ]
  },
  {
   "cell_type": "markdown",
   "metadata": {},
   "source": [
    "### PCA: example"
   ]
  },
  {
   "cell_type": "code",
   "execution_count": 1,
   "metadata": {},
   "outputs": [],
   "source": [
    "import pandas as pd\n",
    "import matplotlib.pyplot as plt\n",
    "import numpy as np\n",
    "import seaborn as sns\n",
    "\n",
    "from sklearn.decomposition import PCA\n",
    "from sklearn.preprocessing import StandardScaler"
   ]
  },
  {
   "cell_type": "code",
   "execution_count": 2,
   "metadata": {},
   "outputs": [
    {
     "data": {
      "application/json": {
       "Software versions": [
        {
         "module": "Python",
         "version": "3.7.5 64bit [MSC v.1916 64 bit (AMD64)]"
        },
        {
         "module": "IPython",
         "version": "7.13.0"
        },
        {
         "module": "OS",
         "version": "Windows 10 10.0.18362 SP0"
        },
        {
         "module": "pandas",
         "version": "0.25.3"
        },
        {
         "module": "matplotlib",
         "version": "3.1.1"
        },
        {
         "module": "seaborn",
         "version": "0.9.0"
        },
        {
         "module": "numpy",
         "version": "1.18.1"
        },
        {
         "module": "sklearn",
         "version": "0.22.1"
        }
       ]
      },
      "text/html": [
       "<table><tr><th>Software</th><th>Version</th></tr><tr><td>Python</td><td>3.7.5 64bit [MSC v.1916 64 bit (AMD64)]</td></tr><tr><td>IPython</td><td>7.13.0</td></tr><tr><td>OS</td><td>Windows 10 10.0.18362 SP0</td></tr><tr><td>pandas</td><td>0.25.3</td></tr><tr><td>matplotlib</td><td>3.1.1</td></tr><tr><td>seaborn</td><td>0.9.0</td></tr><tr><td>numpy</td><td>1.18.1</td></tr><tr><td>sklearn</td><td>0.22.1</td></tr><tr><td colspan='2'>Fri Apr 17 17:23:38 2020 W. Europe Daylight Time</td></tr></table>"
      ],
      "text/latex": [
       "\\begin{tabular}{|l|l|}\\hline\n",
       "{\\bf Software} & {\\bf Version} \\\\ \\hline\\hline\n",
       "Python & 3.7.5 64bit [MSC v.1916 64 bit (AMD64)] \\\\ \\hline\n",
       "IPython & 7.13.0 \\\\ \\hline\n",
       "OS & Windows 10 10.0.18362 SP0 \\\\ \\hline\n",
       "pandas & 0.25.3 \\\\ \\hline\n",
       "matplotlib & 3.1.1 \\\\ \\hline\n",
       "seaborn & 0.9.0 \\\\ \\hline\n",
       "numpy & 1.18.1 \\\\ \\hline\n",
       "sklearn & 0.22.1 \\\\ \\hline\n",
       "\\hline \\multicolumn{2}{|l|}{Fri Apr 17 17:23:38 2020 W. Europe Daylight Time} \\\\ \\hline\n",
       "\\end{tabular}\n"
      ],
      "text/plain": [
       "Software versions\n",
       "Python 3.7.5 64bit [MSC v.1916 64 bit (AMD64)]\n",
       "IPython 7.13.0\n",
       "OS Windows 10 10.0.18362 SP0\n",
       "pandas 0.25.3\n",
       "matplotlib 3.1.1\n",
       "seaborn 0.9.0\n",
       "numpy 1.18.1\n",
       "sklearn 0.22.1\n",
       "Fri Apr 17 17:23:38 2020 W. Europe Daylight Time"
      ]
     },
     "execution_count": 2,
     "metadata": {},
     "output_type": "execute_result"
    }
   ],
   "source": [
    "%reload_ext version_information\n",
    "%version_information pandas, matplotlib, seaborn, numpy, sklearn"
   ]
  },
  {
   "cell_type": "markdown",
   "metadata": {},
   "source": [
    "Violent Crime Rates by US State (data set `USArrests` from base R package)\n",
    "\n",
    "This data set contains statistics, in arrests per 100,000 residents for assault, murder, and rape in each of the 50 US states in 1973. Also given is the percent of the population living in urban areas.\n",
    "\n",
    "A data frame with 50 observations on 4 variables.\n",
    "\n",
    "|Variable|Description|\n",
    "|----|----|\n",
    "|__Murder__\t|numeric\tMurder arrests (per 100,000)|\n",
    "|__Assault__|numeric\tAssault arrests (per 100,000)|\n",
    "|__UrbanPop__|numeric\tPercent urban population|\n",
    "|__Rape__|numeric\tRape arrests (per 100,000)|\n"
   ]
  },
  {
   "cell_type": "code",
   "execution_count": 3,
   "metadata": {},
   "outputs": [
    {
     "name": "stdout",
     "output_type": "stream",
     "text": [
      "<class 'pandas.core.frame.DataFrame'>\n",
      "RangeIndex: 50 entries, 0 to 49\n",
      "Data columns (total 4 columns):\n",
      "Murder      50 non-null float64\n",
      "Assault     50 non-null int64\n",
      "UrbanPop    50 non-null int64\n",
      "Rape        50 non-null float64\n",
      "dtypes: float64(2), int64(2)\n",
      "memory usage: 1.7 KB\n"
     ]
    }
   ],
   "source": [
    "arrests = pd.read_csv('../data/USArrests.csv')\n",
    "arrests.info()"
   ]
  },
  {
   "cell_type": "code",
   "execution_count": 4,
   "metadata": {},
   "outputs": [
    {
     "data": {
      "text/html": [
       "<div>\n",
       "<style scoped>\n",
       "    .dataframe tbody tr th:only-of-type {\n",
       "        vertical-align: middle;\n",
       "    }\n",
       "\n",
       "    .dataframe tbody tr th {\n",
       "        vertical-align: top;\n",
       "    }\n",
       "\n",
       "    .dataframe thead th {\n",
       "        text-align: right;\n",
       "    }\n",
       "</style>\n",
       "<table border=\"1\" class=\"dataframe\">\n",
       "  <thead>\n",
       "    <tr style=\"text-align: right;\">\n",
       "      <th></th>\n",
       "      <th>Murder</th>\n",
       "      <th>Assault</th>\n",
       "      <th>UrbanPop</th>\n",
       "      <th>Rape</th>\n",
       "    </tr>\n",
       "  </thead>\n",
       "  <tbody>\n",
       "    <tr>\n",
       "      <th>0</th>\n",
       "      <td>13.2</td>\n",
       "      <td>236</td>\n",
       "      <td>58</td>\n",
       "      <td>21.2</td>\n",
       "    </tr>\n",
       "    <tr>\n",
       "      <th>1</th>\n",
       "      <td>10.0</td>\n",
       "      <td>263</td>\n",
       "      <td>48</td>\n",
       "      <td>44.5</td>\n",
       "    </tr>\n",
       "    <tr>\n",
       "      <th>2</th>\n",
       "      <td>8.1</td>\n",
       "      <td>294</td>\n",
       "      <td>80</td>\n",
       "      <td>31.0</td>\n",
       "    </tr>\n",
       "    <tr>\n",
       "      <th>3</th>\n",
       "      <td>8.8</td>\n",
       "      <td>190</td>\n",
       "      <td>50</td>\n",
       "      <td>19.5</td>\n",
       "    </tr>\n",
       "    <tr>\n",
       "      <th>4</th>\n",
       "      <td>9.0</td>\n",
       "      <td>276</td>\n",
       "      <td>91</td>\n",
       "      <td>40.6</td>\n",
       "    </tr>\n",
       "  </tbody>\n",
       "</table>\n",
       "</div>"
      ],
      "text/plain": [
       "   Murder  Assault  UrbanPop  Rape\n",
       "0    13.2      236        58  21.2\n",
       "1    10.0      263        48  44.5\n",
       "2     8.1      294        80  31.0\n",
       "3     8.8      190        50  19.5\n",
       "4     9.0      276        91  40.6"
      ]
     },
     "execution_count": 4,
     "metadata": {},
     "output_type": "execute_result"
    }
   ],
   "source": [
    "arrests.head()"
   ]
  },
  {
   "cell_type": "code",
   "execution_count": 5,
   "metadata": {},
   "outputs": [
    {
     "data": {
      "text/html": [
       "<div>\n",
       "<style scoped>\n",
       "    .dataframe tbody tr th:only-of-type {\n",
       "        vertical-align: middle;\n",
       "    }\n",
       "\n",
       "    .dataframe tbody tr th {\n",
       "        vertical-align: top;\n",
       "    }\n",
       "\n",
       "    .dataframe thead th {\n",
       "        text-align: right;\n",
       "    }\n",
       "</style>\n",
       "<table border=\"1\" class=\"dataframe\">\n",
       "  <thead>\n",
       "    <tr style=\"text-align: right;\">\n",
       "      <th></th>\n",
       "      <th>Murder</th>\n",
       "      <th>Assault</th>\n",
       "      <th>UrbanPop</th>\n",
       "      <th>Rape</th>\n",
       "    </tr>\n",
       "  </thead>\n",
       "  <tbody>\n",
       "    <tr>\n",
       "      <th>Murder</th>\n",
       "      <td>1.000000</td>\n",
       "      <td>0.801873</td>\n",
       "      <td>0.069573</td>\n",
       "      <td>0.563579</td>\n",
       "    </tr>\n",
       "    <tr>\n",
       "      <th>Assault</th>\n",
       "      <td>0.801873</td>\n",
       "      <td>1.000000</td>\n",
       "      <td>0.258872</td>\n",
       "      <td>0.665241</td>\n",
       "    </tr>\n",
       "    <tr>\n",
       "      <th>UrbanPop</th>\n",
       "      <td>0.069573</td>\n",
       "      <td>0.258872</td>\n",
       "      <td>1.000000</td>\n",
       "      <td>0.411341</td>\n",
       "    </tr>\n",
       "    <tr>\n",
       "      <th>Rape</th>\n",
       "      <td>0.563579</td>\n",
       "      <td>0.665241</td>\n",
       "      <td>0.411341</td>\n",
       "      <td>1.000000</td>\n",
       "    </tr>\n",
       "  </tbody>\n",
       "</table>\n",
       "</div>"
      ],
      "text/plain": [
       "            Murder   Assault  UrbanPop      Rape\n",
       "Murder    1.000000  0.801873  0.069573  0.563579\n",
       "Assault   0.801873  1.000000  0.258872  0.665241\n",
       "UrbanPop  0.069573  0.258872  1.000000  0.411341\n",
       "Rape      0.563579  0.665241  0.411341  1.000000"
      ]
     },
     "execution_count": 5,
     "metadata": {},
     "output_type": "execute_result"
    }
   ],
   "source": [
    "arrests.corr()"
   ]
  },
  {
   "cell_type": "code",
   "execution_count": 6,
   "metadata": {},
   "outputs": [
    {
     "data": {
      "text/html": [
       "<div>\n",
       "<style scoped>\n",
       "    .dataframe tbody tr th:only-of-type {\n",
       "        vertical-align: middle;\n",
       "    }\n",
       "\n",
       "    .dataframe tbody tr th {\n",
       "        vertical-align: top;\n",
       "    }\n",
       "\n",
       "    .dataframe thead th {\n",
       "        text-align: right;\n",
       "    }\n",
       "</style>\n",
       "<table border=\"1\" class=\"dataframe\">\n",
       "  <thead>\n",
       "    <tr style=\"text-align: right;\">\n",
       "      <th></th>\n",
       "      <th>Murder</th>\n",
       "      <th>Assault</th>\n",
       "      <th>UrbanPop</th>\n",
       "      <th>Rape</th>\n",
       "    </tr>\n",
       "  </thead>\n",
       "  <tbody>\n",
       "    <tr>\n",
       "      <th>count</th>\n",
       "      <td>50.00000</td>\n",
       "      <td>50.000000</td>\n",
       "      <td>50.000000</td>\n",
       "      <td>50.000000</td>\n",
       "    </tr>\n",
       "    <tr>\n",
       "      <th>mean</th>\n",
       "      <td>7.78800</td>\n",
       "      <td>170.760000</td>\n",
       "      <td>65.540000</td>\n",
       "      <td>21.232000</td>\n",
       "    </tr>\n",
       "    <tr>\n",
       "      <th>std</th>\n",
       "      <td>4.35551</td>\n",
       "      <td>83.337661</td>\n",
       "      <td>14.474763</td>\n",
       "      <td>9.366385</td>\n",
       "    </tr>\n",
       "    <tr>\n",
       "      <th>min</th>\n",
       "      <td>0.80000</td>\n",
       "      <td>45.000000</td>\n",
       "      <td>32.000000</td>\n",
       "      <td>7.300000</td>\n",
       "    </tr>\n",
       "    <tr>\n",
       "      <th>25%</th>\n",
       "      <td>4.07500</td>\n",
       "      <td>109.000000</td>\n",
       "      <td>54.500000</td>\n",
       "      <td>15.075000</td>\n",
       "    </tr>\n",
       "    <tr>\n",
       "      <th>50%</th>\n",
       "      <td>7.25000</td>\n",
       "      <td>159.000000</td>\n",
       "      <td>66.000000</td>\n",
       "      <td>20.100000</td>\n",
       "    </tr>\n",
       "    <tr>\n",
       "      <th>75%</th>\n",
       "      <td>11.25000</td>\n",
       "      <td>249.000000</td>\n",
       "      <td>77.750000</td>\n",
       "      <td>26.175000</td>\n",
       "    </tr>\n",
       "    <tr>\n",
       "      <th>max</th>\n",
       "      <td>17.40000</td>\n",
       "      <td>337.000000</td>\n",
       "      <td>91.000000</td>\n",
       "      <td>46.000000</td>\n",
       "    </tr>\n",
       "  </tbody>\n",
       "</table>\n",
       "</div>"
      ],
      "text/plain": [
       "         Murder     Assault   UrbanPop       Rape\n",
       "count  50.00000   50.000000  50.000000  50.000000\n",
       "mean    7.78800  170.760000  65.540000  21.232000\n",
       "std     4.35551   83.337661  14.474763   9.366385\n",
       "min     0.80000   45.000000  32.000000   7.300000\n",
       "25%     4.07500  109.000000  54.500000  15.075000\n",
       "50%     7.25000  159.000000  66.000000  20.100000\n",
       "75%    11.25000  249.000000  77.750000  26.175000\n",
       "max    17.40000  337.000000  91.000000  46.000000"
      ]
     },
     "execution_count": 6,
     "metadata": {},
     "output_type": "execute_result"
    }
   ],
   "source": [
    "arrests.describe()"
   ]
  },
  {
   "cell_type": "code",
   "execution_count": 7,
   "metadata": {},
   "outputs": [
    {
     "data": {
      "image/png": "[encoded data removed]",
      "text/plain": [
       "<Figure size 720x360 with 1 Axes>"
      ]
     },
     "metadata": {},
     "output_type": "display_data"
    }
   ],
   "source": [
    "plt.figure(figsize=(10,5))\n",
    "plt.style.use('seaborn')\n",
    "sns.boxplot(data=arrests, orient='h')\n",
    "plt.xlabel('Arrests (per 100,000 residents)', fontsize=18)\n",
    "plt.yticks(fontsize=18)\n",
    "plt.xticks(fontsize=16)\n",
    "plt.show()\n",
    "plt.close()"
   ]
  },
  {
   "cell_type": "code",
   "execution_count": 8,
   "metadata": {},
   "outputs": [],
   "source": [
    "# create a PCA object\n",
    "pca = PCA()"
   ]
  },
  {
   "cell_type": "code",
   "execution_count": 9,
   "metadata": {},
   "outputs": [],
   "source": [
    "# consider only two variables\n",
    "# find PCs for the reduced data set\n",
    "arrests_norm = StandardScaler().fit_transform(arrests[['Assault','Murder']])\n",
    "pc = pca.fit_transform(arrests_norm)\n",
    "\n",
    "PC1 = pc[:, 0]\n",
    "PC2 = pc[:, 1]"
   ]
  },
  {
   "cell_type": "code",
   "execution_count": 10,
   "metadata": {},
   "outputs": [
    {
     "data": {
      "text/html": [
       "<div>\n",
       "<style scoped>\n",
       "    .dataframe tbody tr th:only-of-type {\n",
       "        vertical-align: middle;\n",
       "    }\n",
       "\n",
       "    .dataframe tbody tr th {\n",
       "        vertical-align: top;\n",
       "    }\n",
       "\n",
       "    .dataframe thead th {\n",
       "        text-align: right;\n",
       "    }\n",
       "</style>\n",
       "<table border=\"1\" class=\"dataframe\">\n",
       "  <thead>\n",
       "    <tr style=\"text-align: right;\">\n",
       "      <th></th>\n",
       "      <th>coord_1</th>\n",
       "      <th>coord_2</th>\n",
       "    </tr>\n",
       "  </thead>\n",
       "  <tbody>\n",
       "    <tr>\n",
       "      <th>PC1 direction</th>\n",
       "      <td>0.707107</td>\n",
       "      <td>0.707107</td>\n",
       "    </tr>\n",
       "    <tr>\n",
       "      <th>PC2 direction</th>\n",
       "      <td>-0.707107</td>\n",
       "      <td>0.707107</td>\n",
       "    </tr>\n",
       "  </tbody>\n",
       "</table>\n",
       "</div>"
      ],
      "text/plain": [
       "                coord_1   coord_2\n",
       "PC1 direction  0.707107  0.707107\n",
       "PC2 direction -0.707107  0.707107"
      ]
     },
     "execution_count": 10,
     "metadata": {},
     "output_type": "execute_result"
    }
   ],
   "source": [
    "#Principal axes in feature space, representing the directions of maximum variance in the data.\n",
    "# shape (n_components, n_features)\n",
    "\n",
    "pd.DataFrame(pca.components_, \n",
    "             index = ['PC'+str(i+1)+' direction' for i in range(pca.n_components_)], \n",
    "             columns = ['coord_'+str(s+1) for s in range(pca.n_components_)])"
   ]
  },
  {
   "cell_type": "markdown",
   "metadata": {},
   "source": [
    "> The principal component directions are directions in feature space along which the original data are highly variable. These directions also define lines and subspaces that are as close as possible to the data cloud."
   ]
  },
  {
   "cell_type": "code",
   "execution_count": 11,
   "metadata": {},
   "outputs": [
    {
     "data": {
      "image/png": "[encoded data removed]",
      "text/plain": [
       "<Figure size 720x360 with 2 Axes>"
      ]
     },
     "metadata": {},
     "output_type": "display_data"
    }
   ],
   "source": [
    "plt.style.use('seaborn')\n",
    "fig, ax = plt.subplots(nrows=1, ncols=2, figsize=(10,5))\n",
    "\n",
    "# scaled data\n",
    "# PC1, PC2 components direction\n",
    "\n",
    "ax[0].scatter(x=arrests_norm[:,0], y=arrests_norm[:,1])\n",
    "\n",
    "ax[0].annotate(\"\", xy=(pca.components_[0, 0], pca.components_[0, 1]), xytext=(0, 0),\n",
    "            arrowprops=dict(arrowstyle=\"simple\"))\n",
    "\n",
    "ax[0].annotate(\"\", xy=(pca.components_[1, 0], pca.components_[1, 1]), xytext=(0.03, 0),\n",
    "            arrowprops=dict(arrowstyle=\"simple\"))\n",
    "\n",
    "ax[0].text(pca.components_[0, 0]-0.2, pca.components_[0, 1], 'PC1', rotation=45, fontsize=14)\n",
    "ax[0].text(pca.components_[1, 0]-0.4, pca.components_[1, 1]-0.1, 'PC2', rotation=45, fontsize=14)\n",
    "\n",
    "ax[0].set_xlabel('Assault', fontsize=18)\n",
    "ax[0].set_ylabel('Murder', fontsize=18)\n",
    "ax[0].tick_params(labelsize=14)\n",
    "\n",
    "\n",
    "# data in principal component coordinates\n",
    "ax[1].scatter(x=PC1, y=PC2)\n",
    "ax[1].set_xlabel('PC1', fontsize=18)\n",
    "ax[1].set_ylabel('PC2', fontsize=18)\n",
    "ax[1].tick_params(labelsize=14)\n",
    "\n",
    "plt.axis('equal')\n",
    "plt.tight_layout()\n",
    "plt.savefig('../figs/principal_components.pdf')\n",
    "plt.show()\n",
    "plt.close()"
   ]
  },
  {
   "cell_type": "code",
   "execution_count": 12,
   "metadata": {},
   "outputs": [
    {
     "data": {
      "text/plain": [
       "array([3.33066907e-16])"
      ]
     },
     "execution_count": 12,
     "metadata": {},
     "output_type": "execute_result"
    }
   ],
   "source": [
    "# principal components are uncorrelated\n",
    "np.correlate(PC1, PC2)"
   ]
  },
  {
   "cell_type": "markdown",
   "metadata": {},
   "source": [
    "__The total variance__ is the sum of variances of all individual principal components.\n",
    "\n",
    "__The proportion of variance explained__ by a principal component is the ratio between the variance of that principal component and the __total variance__."
   ]
  },
  {
   "cell_type": "code",
   "execution_count": 13,
   "metadata": {},
   "outputs": [
    {
     "data": {
      "text/html": [
       "<div>\n",
       "<style scoped>\n",
       "    .dataframe tbody tr th:only-of-type {\n",
       "        vertical-align: middle;\n",
       "    }\n",
       "\n",
       "    .dataframe tbody tr th {\n",
       "        vertical-align: top;\n",
       "    }\n",
       "\n",
       "    .dataframe thead th {\n",
       "        text-align: right;\n",
       "    }\n",
       "</style>\n",
       "<table border=\"1\" class=\"dataframe\">\n",
       "  <thead>\n",
       "    <tr style=\"text-align: right;\">\n",
       "      <th></th>\n",
       "      <th>PC1</th>\n",
       "      <th>PC2</th>\n",
       "    </tr>\n",
       "  </thead>\n",
       "  <tbody>\n",
       "    <tr>\n",
       "      <th>Proportion of variance</th>\n",
       "      <td>0.900937</td>\n",
       "      <td>0.099063</td>\n",
       "    </tr>\n",
       "    <tr>\n",
       "      <th>Cumulative proportion</th>\n",
       "      <td>0.900937</td>\n",
       "      <td>1.000000</td>\n",
       "    </tr>\n",
       "  </tbody>\n",
       "</table>\n",
       "</div>"
      ],
      "text/plain": [
       "                             PC1       PC2\n",
       "Proportion of variance  0.900937  0.099063\n",
       "Cumulative proportion   0.900937  1.000000"
      ]
     },
     "execution_count": 13,
     "metadata": {},
     "output_type": "execute_result"
    }
   ],
   "source": [
    "pd.DataFrame({'Proportion of variance': pca.explained_variance_ratio_,\n",
    "              'Cumulative proportion': np.cumsum(pca.explained_variance_ratio_)},\n",
    "              index=[ 'PC'+str(x+1) for x in range(pca.n_components_)]).T"
   ]
  },
  {
   "cell_type": "code",
   "execution_count": 14,
   "metadata": {},
   "outputs": [
    {
     "data": {
      "text/html": [
       "<div>\n",
       "<style scoped>\n",
       "    .dataframe tbody tr th:only-of-type {\n",
       "        vertical-align: middle;\n",
       "    }\n",
       "\n",
       "    .dataframe tbody tr th {\n",
       "        vertical-align: top;\n",
       "    }\n",
       "\n",
       "    .dataframe thead th {\n",
       "        text-align: right;\n",
       "    }\n",
       "</style>\n",
       "<table border=\"1\" class=\"dataframe\">\n",
       "  <thead>\n",
       "    <tr style=\"text-align: right;\">\n",
       "      <th></th>\n",
       "      <th>coord_1</th>\n",
       "      <th>coord_2</th>\n",
       "      <th>coord_3</th>\n",
       "      <th>coord_4</th>\n",
       "    </tr>\n",
       "  </thead>\n",
       "  <tbody>\n",
       "    <tr>\n",
       "      <th>PC1 direction</th>\n",
       "      <td>0.535899</td>\n",
       "      <td>0.583184</td>\n",
       "      <td>0.278191</td>\n",
       "      <td>0.543432</td>\n",
       "    </tr>\n",
       "    <tr>\n",
       "      <th>PC2 direction</th>\n",
       "      <td>0.418181</td>\n",
       "      <td>0.187986</td>\n",
       "      <td>-0.872806</td>\n",
       "      <td>-0.167319</td>\n",
       "    </tr>\n",
       "    <tr>\n",
       "      <th>PC3 direction</th>\n",
       "      <td>-0.341233</td>\n",
       "      <td>-0.268148</td>\n",
       "      <td>-0.378016</td>\n",
       "      <td>0.817778</td>\n",
       "    </tr>\n",
       "    <tr>\n",
       "      <th>PC4 direction</th>\n",
       "      <td>0.649228</td>\n",
       "      <td>-0.743407</td>\n",
       "      <td>0.133878</td>\n",
       "      <td>0.089024</td>\n",
       "    </tr>\n",
       "  </tbody>\n",
       "</table>\n",
       "</div>"
      ],
      "text/plain": [
       "                coord_1   coord_2   coord_3   coord_4\n",
       "PC1 direction  0.535899  0.583184  0.278191  0.543432\n",
       "PC2 direction  0.418181  0.187986 -0.872806 -0.167319\n",
       "PC3 direction -0.341233 -0.268148 -0.378016  0.817778\n",
       "PC4 direction  0.649228 -0.743407  0.133878  0.089024"
      ]
     },
     "execution_count": 14,
     "metadata": {},
     "output_type": "execute_result"
    }
   ],
   "source": [
    "# PCs for the full data set\n",
    "\n",
    "pc_all = pca.fit_transform(StandardScaler().fit_transform(arrests))\n",
    "\n",
    "pd.DataFrame(pca.components_, \n",
    "             index = ['PC'+str(i+1)+' direction' for i in range(pca.n_components_)], \n",
    "             columns = ['coord_'+str(s+1) for s in range(pca.n_components_)])"
   ]
  },
  {
   "cell_type": "markdown",
   "metadata": {},
   "source": [
    "__The total variance__ is the sum of variances of all individual principal components.\n",
    "\n",
    "__The proportion of variance explained__ by a principal component is the ratio between the variance of that principal component and the __total variance__."
   ]
  },
  {
   "cell_type": "code",
   "execution_count": 15,
   "metadata": {},
   "outputs": [
    {
     "data": {
      "text/html": [
       "<div>\n",
       "<style scoped>\n",
       "    .dataframe tbody tr th:only-of-type {\n",
       "        vertical-align: middle;\n",
       "    }\n",
       "\n",
       "    .dataframe tbody tr th {\n",
       "        vertical-align: top;\n",
       "    }\n",
       "\n",
       "    .dataframe thead th {\n",
       "        text-align: right;\n",
       "    }\n",
       "</style>\n",
       "<table border=\"1\" class=\"dataframe\">\n",
       "  <thead>\n",
       "    <tr style=\"text-align: right;\">\n",
       "      <th></th>\n",
       "      <th>PC1</th>\n",
       "      <th>PC2</th>\n",
       "      <th>PC3</th>\n",
       "      <th>PC4</th>\n",
       "    </tr>\n",
       "  </thead>\n",
       "  <tbody>\n",
       "    <tr>\n",
       "      <th>Proportion of variance</th>\n",
       "      <td>0.62006</td>\n",
       "      <td>0.247441</td>\n",
       "      <td>0.089141</td>\n",
       "      <td>0.043358</td>\n",
       "    </tr>\n",
       "    <tr>\n",
       "      <th>Cumulative proportion</th>\n",
       "      <td>0.62006</td>\n",
       "      <td>0.867502</td>\n",
       "      <td>0.956642</td>\n",
       "      <td>1.000000</td>\n",
       "    </tr>\n",
       "  </tbody>\n",
       "</table>\n",
       "</div>"
      ],
      "text/plain": [
       "                            PC1       PC2       PC3       PC4\n",
       "Proportion of variance  0.62006  0.247441  0.089141  0.043358\n",
       "Cumulative proportion   0.62006  0.867502  0.956642  1.000000"
      ]
     },
     "execution_count": 15,
     "metadata": {},
     "output_type": "execute_result"
    }
   ],
   "source": [
    "pd.DataFrame({'Proportion of variance': pca.explained_variance_ratio_,\n",
    "                           'Cumulative proportion': np.cumsum(pca.explained_variance_ratio_)},\n",
    "            index=[ 'PC'+str(x+1) for x in range(pca.n_components_)]).T"
   ]
  },
  {
   "cell_type": "markdown",
   "metadata": {},
   "source": [
    "### References\n",
    "\n",
    "1. James, G., Witten, D., Hastie, T., and Tibshirani, R. (2013) [An Introduction to Statistical Learning with applications in R](http://faculty.marshall.usc.edu/gareth-james/ISL/), Springer-Verlag, New York"
   ]
  }
 ],
 "metadata": {
  "kernelspec": {
   "display_name": "Python 3",
   "language": "python",
   "name": "python3"
  },
  "language_info": {
   "codemirror_mode": {
    "name": "ipython",
    "version": 3
   },
   "file_extension": ".py",
   "mimetype": "text/x-python",
   "name": "python",
   "nbconvert_exporter": "python",
   "pygments_lexer": "ipython3",
   "version": "3.7.5"
  }
 },
 "nbformat": 4,
 "nbformat_minor": 4
}
